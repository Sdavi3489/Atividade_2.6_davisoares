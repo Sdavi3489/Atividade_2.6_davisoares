{
  "nbformat": 4,
  "nbformat_minor": 0,
  "metadata": {
    "colab": {
      "name": "Exercicio 2_6.ipynb",
      "provenance": [],
      "collapsed_sections": [],
      "include_colab_link": true
    },
    "kernelspec": {
      "name": "python3",
      "display_name": "Python 3"
    }
  },
  "cells": [
    {
      "cell_type": "markdown",
      "metadata": {
        "id": "view-in-github",
        "colab_type": "text"
      },
      "source": [
        "<a href=\"https://colab.research.google.com/github/Sdavi3489/Atividade_2.6_davisoares/blob/main/Exercicio_2_6_resolvido.ipynb\" target=\"_parent\"><img src=\"https://colab.research.google.com/assets/colab-badge.svg\" alt=\"Open In Colab\"/></a>"
      ]
    },
    {
      "cell_type": "markdown",
      "metadata": {
        "id": "uZtJtKzHdpzr"
      },
      "source": [
        "## 3.6 - Exercício sobre CSV (enviar pelo Canvas)"
      ]
    },
    {
      "cell_type": "code",
      "metadata": {
        "id": "Byrg7ZAQd0Sr",
        "colab": {
          "base_uri": "https://localhost:8080/"
        },
        "outputId": "61746a31-6501-4f3f-ace2-305b4c6c653c"
      },
      "source": [
        "import pandas as pd\n",
        "\n",
        "def add_full_name(path_to_csv, path_to_new_csv):\n",
        "    # Assuma que você estará lendo em um arquivo csv com as mesmas colunas que o\n",
        "    # conjunto de dados de beisebol Lahman tem.\n",
        "    # Existem colunas chamadas 'nameFirst' e 'nameLast'.\n",
        "    #\n",
        "    # 1) Escreva uma função que leia um csv localizado em \"path_to_csv\" \n",
        "    # para um dataframe do pandas e adicione uma nova coluna chamada \"nameFull\" \n",
        "    # com o nome completo do jogador.\n",
        "    #\n",
        "    # Por exemplo:\n",
        "    # para Hank Aaron, nameFull seria \"Hank Aaron\",\n",
        "    #\n",
        "    # 2) Grave os dados do pandas dataFrame em um novo arquivo csv localizado em\n",
        "    # path_to_new_csv\n",
        "    \n",
        "    baseball_data = pd.read_csv(path_to_csv,encoding='cp1252')\n",
        "    # Seu código vai aqui\n",
        "    baseball_data['nameFull'] = baseball_data['nameFirst'] + \\\n",
        "                                baseball_data['nameLast']\n",
        "\n",
        "    print(baseball_data[['nameFirst','nameLast','nameFull']].head())\n",
        "    baseball_data.to_csv(path_to_new_csv)\n",
        "if __name__ == \"__main__\":\n",
        "    # For local use only \n",
        "    # (apenas se você estivesse rodando este código em sua máquina local)\n",
        "    # If you are running this on your own machine add the path to the\n",
        "    # Lahman baseball csv and a path for the new csv.\n",
        "    # We are using the file Master.csv\n",
        "    url = 'https://raw.githubusercontent.com/Sdavi3489/Atividade_2.6_davisoares/main/Master.csv'\n",
        "    add_full_name(url,'nameFull.csv')\n",
        "    pass\n",
        "\n",
        "# Não se esqueça de testar o seu código e conferir se o novo arquivo CSV\n",
        "# contém a coluna criada na forma adequada."
      ],
      "execution_count": 18,
      "outputs": [
        {
          "output_type": "stream",
          "name": "stdout",
          "text": [
            "  nameFirst nameLast     nameFull\n",
            "0      Hank    Aaron    HankAaron\n",
            "1    Tommie    Aaron  TommieAaron\n",
            "2       Don     Aase      DonAase\n",
            "3      Andy     Abad     AndyAbad\n",
            "4      John   Abadie   JohnAbadie\n"
          ]
        }
      ]
    },
    {
      "cell_type": "code",
      "metadata": {
        "id": "Z2Qc-f363-V6",
        "colab": {
          "base_uri": "https://localhost:8080/",
          "height": 204
        },
        "outputId": "7509c261-3787-4790-fc2a-d4b7ea2f0b55"
      },
      "source": [
        "# Código para teste\n",
        "baseball_data[['nameFirst','nameLast','nameFull']].head()"
      ],
      "execution_count": 21,
      "outputs": [
        {
          "output_type": "execute_result",
          "data": {
            "text/html": [
              "<div>\n",
              "<style scoped>\n",
              "    .dataframe tbody tr th:only-of-type {\n",
              "        vertical-align: middle;\n",
              "    }\n",
              "\n",
              "    .dataframe tbody tr th {\n",
              "        vertical-align: top;\n",
              "    }\n",
              "\n",
              "    .dataframe thead th {\n",
              "        text-align: right;\n",
              "    }\n",
              "</style>\n",
              "<table border=\"1\" class=\"dataframe\">\n",
              "  <thead>\n",
              "    <tr style=\"text-align: right;\">\n",
              "      <th></th>\n",
              "      <th>nameFirst</th>\n",
              "      <th>nameLast</th>\n",
              "      <th>nameFull</th>\n",
              "    </tr>\n",
              "  </thead>\n",
              "  <tbody>\n",
              "    <tr>\n",
              "      <th>0</th>\n",
              "      <td>Hank</td>\n",
              "      <td>Aaron</td>\n",
              "      <td>HankAaron</td>\n",
              "    </tr>\n",
              "    <tr>\n",
              "      <th>1</th>\n",
              "      <td>Tommie</td>\n",
              "      <td>Aaron</td>\n",
              "      <td>TommieAaron</td>\n",
              "    </tr>\n",
              "    <tr>\n",
              "      <th>2</th>\n",
              "      <td>Don</td>\n",
              "      <td>Aase</td>\n",
              "      <td>DonAase</td>\n",
              "    </tr>\n",
              "    <tr>\n",
              "      <th>3</th>\n",
              "      <td>Andy</td>\n",
              "      <td>Abad</td>\n",
              "      <td>AndyAbad</td>\n",
              "    </tr>\n",
              "    <tr>\n",
              "      <th>4</th>\n",
              "      <td>John</td>\n",
              "      <td>Abadie</td>\n",
              "      <td>JohnAbadie</td>\n",
              "    </tr>\n",
              "  </tbody>\n",
              "</table>\n",
              "</div>"
            ],
            "text/plain": [
              "  nameFirst nameLast     nameFull\n",
              "0      Hank    Aaron    HankAaron\n",
              "1    Tommie    Aaron  TommieAaron\n",
              "2       Don     Aase      DonAase\n",
              "3      Andy     Abad     AndyAbad\n",
              "4      John   Abadie   JohnAbadie"
            ]
          },
          "metadata": {},
          "execution_count": 21
        }
      ]
    }
  ]
}