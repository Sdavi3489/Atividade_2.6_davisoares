{
  "nbformat": 4,
  "nbformat_minor": 0,
  "metadata": {
    "colab": {
      "name": "Exercicio 2_6.ipynb",
      "provenance": [],
      "collapsed_sections": [
        "kfpkI0nn-Y-v",
        "xQg7tj0deLBi",
        "oGDRAOL8M3ND",
        "pdFra3VASUHv",
        "5ZUFpIl6UZex"
      ],
      "include_colab_link": true
    },
    "kernelspec": {
      "name": "python3",
      "display_name": "Python 3"
    }
  },
  "cells": [
    {
      "cell_type": "markdown",
      "metadata": {
        "id": "view-in-github",
        "colab_type": "text"
      },
      "source": [
        "<a href=\"https://colab.research.google.com/github/Sdavi3489/Atividade_2.6_davisoares/blob/main/Exercicio_2_6.ipynb\" target=\"_parent\"><img src=\"https://colab.research.google.com/assets/colab-badge.svg\" alt=\"Open In Colab\"/></a>"
      ]
    },
    {
      "cell_type": "markdown",
      "metadata": {
        "id": "GvKjrDypdLwz"
      },
      "source": [
        "## 3.5 - Dados CSV"
      ]
    },
    {
      "cell_type": "code",
      "metadata": {
        "id": "TOzQ2-4HdHD0",
        "colab": {
          "base_uri": "https://localhost:8080/",
          "height": 204
        },
        "outputId": "1fd1232b-c1c8-4d6a-afce-2e98abc62e4f"
      },
      "source": [
        "import pandas as pd\n",
        "baseball_data = pd.read_csv('Master.csv',encoding='cp1252')\n",
        "\n",
        "\n",
        "\n",
        "baseball_data['height_plus_weight'] = \\\n",
        "  baseball_data['height'] + baseball_data['weight']\n",
        "t = baseball_data[['height','weight','height_plus_weight']].head()\n",
        "\n",
        "baseball_data.to_csv('baseball_data_with_weight_height.csv')\n",
        "t"
      ],
      "execution_count": null,
      "outputs": [
        {
          "output_type": "execute_result",
          "data": {
            "text/html": [
              "<div>\n",
              "<style scoped>\n",
              "    .dataframe tbody tr th:only-of-type {\n",
              "        vertical-align: middle;\n",
              "    }\n",
              "\n",
              "    .dataframe tbody tr th {\n",
              "        vertical-align: top;\n",
              "    }\n",
              "\n",
              "    .dataframe thead th {\n",
              "        text-align: right;\n",
              "    }\n",
              "</style>\n",
              "<table border=\"1\" class=\"dataframe\">\n",
              "  <thead>\n",
              "    <tr style=\"text-align: right;\">\n",
              "      <th></th>\n",
              "      <th>height</th>\n",
              "      <th>weight</th>\n",
              "      <th>height_plus_weight</th>\n",
              "    </tr>\n",
              "  </thead>\n",
              "  <tbody>\n",
              "    <tr>\n",
              "      <th>0</th>\n",
              "      <td>72.0</td>\n",
              "      <td>180.0</td>\n",
              "      <td>252.0</td>\n",
              "    </tr>\n",
              "    <tr>\n",
              "      <th>1</th>\n",
              "      <td>75.0</td>\n",
              "      <td>190.0</td>\n",
              "      <td>265.0</td>\n",
              "    </tr>\n",
              "    <tr>\n",
              "      <th>2</th>\n",
              "      <td>75.0</td>\n",
              "      <td>190.0</td>\n",
              "      <td>265.0</td>\n",
              "    </tr>\n",
              "    <tr>\n",
              "      <th>3</th>\n",
              "      <td>73.0</td>\n",
              "      <td>184.0</td>\n",
              "      <td>257.0</td>\n",
              "    </tr>\n",
              "    <tr>\n",
              "      <th>4</th>\n",
              "      <td>72.0</td>\n",
              "      <td>192.0</td>\n",
              "      <td>264.0</td>\n",
              "    </tr>\n",
              "  </tbody>\n",
              "</table>\n",
              "</div>"
            ],
            "text/plain": [
              "   height  weight  height_plus_weight\n",
              "0    72.0   180.0               252.0\n",
              "1    75.0   190.0               265.0\n",
              "2    75.0   190.0               265.0\n",
              "3    73.0   184.0               257.0\n",
              "4    72.0   192.0               264.0"
            ]
          },
          "metadata": {},
          "execution_count": 8
        }
      ]
    },
    {
      "cell_type": "markdown",
      "metadata": {
        "id": "uZtJtKzHdpzr"
      },
      "source": [
        "## 3.6 - Exercício sobre CSV (enviar pelo Canvas)"
      ]
    },
    {
      "cell_type": "code",
      "metadata": {
        "id": "Byrg7ZAQd0Sr",
        "colab": {
          "base_uri": "https://localhost:8080/"
        },
        "outputId": "53fe5109-5946-4e62-b181-a7bdf0a274c7"
      },
      "source": [
        "import pandas as pd\n",
        "\n",
        "def add_full_name(path_to_csv, path_to_new_csv):\n",
        "    # Assuma que você estará lendo em um arquivo csv com as mesmas colunas que o\n",
        "    # conjunto de dados de beisebol Lahman tem.\n",
        "    # Existem colunas chamadas 'nameFirst' e 'nameLast'.\n",
        "    #\n",
        "    # 1) Escreva uma função que leia um csv localizado em \"path_to_csv\" \n",
        "    # para um dataframe do pandas e adicione uma nova coluna chamada \"nameFull\" \n",
        "    # com o nome completo do jogador.\n",
        "    #\n",
        "    # Por exemplo:\n",
        "    # para Hank Aaron, nameFull seria \"Hank Aaron\",\n",
        "    #\n",
        "    # 2) Grave os dados do pandas dataFrame em um novo arquivo csv localizado em\n",
        "    # path_to_new_csv\n",
        "    \n",
        "    baseball_data = pd.read_csv(path_to_csv,encoding='iso8859_2')\n",
        "    # Seu código vai aqui\n",
        "    baseball_data['nameFull'] = baseball_data['nameFirst'] + \\\n",
        "                                baseball_data['nameLast']\n",
        "\n",
        "    print(baseball_data[['nameFirst','nameLast','nameFull']].head())\n",
        "    baseball_data.to_csv(path_to_new_csv)\n",
        "if __name__ == \"__main__\":\n",
        "    # For local use only \n",
        "    # (apenas se você estivesse rodando este código em sua máquina local)\n",
        "    # If you are running this on your own machine add the path to the\n",
        "    # Lahman baseball csv and a path for the new csv.\n",
        "    # We are using the file Master.csv\n",
        "    add_full_name('Master.csv','nameFull.csv')\n",
        "    pass\n",
        "\n",
        "# Não se esqueça de testar o seu código e conferir se o novo arquivo CSV\n",
        "# contém a coluna criada na forma adequada."
      ],
      "execution_count": 3,
      "outputs": [
        {
          "output_type": "stream",
          "name": "stdout",
          "text": [
            "  nameFirst nameLast     nameFull\n",
            "0      Hank    Aaron    HankAaron\n",
            "1    Tommie    Aaron  TommieAaron\n",
            "2       Don     Aase      DonAase\n",
            "3      Andy     Abad     AndyAbad\n",
            "4      John   Abadie   JohnAbadie\n"
          ]
        }
      ]
    },
    {
      "cell_type": "code",
      "metadata": {
        "id": "Z2Qc-f363-V6",
        "colab": {
          "base_uri": "https://localhost:8080/",
          "height": 204
        },
        "outputId": "cf8c5560-e8ee-4cd9-a11b-60bb03434b14"
      },
      "source": [
        "# Código para teste\n"
      ],
      "execution_count": null,
      "outputs": [
        {
          "output_type": "execute_result",
          "data": {
            "text/html": [
              "<div>\n",
              "<style scoped>\n",
              "    .dataframe tbody tr th:only-of-type {\n",
              "        vertical-align: middle;\n",
              "    }\n",
              "\n",
              "    .dataframe tbody tr th {\n",
              "        vertical-align: top;\n",
              "    }\n",
              "\n",
              "    .dataframe thead th {\n",
              "        text-align: right;\n",
              "    }\n",
              "</style>\n",
              "<table border=\"1\" class=\"dataframe\">\n",
              "  <thead>\n",
              "    <tr style=\"text-align: right;\">\n",
              "      <th></th>\n",
              "      <th>nameFirst</th>\n",
              "      <th>nameLast</th>\n",
              "      <th>nameFull</th>\n",
              "    </tr>\n",
              "  </thead>\n",
              "  <tbody>\n",
              "    <tr>\n",
              "      <th>0</th>\n",
              "      <td>Hank</td>\n",
              "      <td>Aaron</td>\n",
              "      <td>Hank Aaron</td>\n",
              "    </tr>\n",
              "    <tr>\n",
              "      <th>1</th>\n",
              "      <td>Tommie</td>\n",
              "      <td>Aaron</td>\n",
              "      <td>Tommie Aaron</td>\n",
              "    </tr>\n",
              "    <tr>\n",
              "      <th>2</th>\n",
              "      <td>Don</td>\n",
              "      <td>Aase</td>\n",
              "      <td>Don Aase</td>\n",
              "    </tr>\n",
              "    <tr>\n",
              "      <th>3</th>\n",
              "      <td>Andy</td>\n",
              "      <td>Abad</td>\n",
              "      <td>Andy Abad</td>\n",
              "    </tr>\n",
              "    <tr>\n",
              "      <th>4</th>\n",
              "      <td>John</td>\n",
              "      <td>Abadie</td>\n",
              "      <td>John Abadie</td>\n",
              "    </tr>\n",
              "  </tbody>\n",
              "</table>\n",
              "</div>"
            ],
            "text/plain": [
              "  nameFirst nameLast      nameFull\n",
              "0      Hank    Aaron    Hank Aaron\n",
              "1    Tommie    Aaron  Tommie Aaron\n",
              "2       Don     Aase      Don Aase\n",
              "3      Andy     Abad     Andy Abad\n",
              "4      John   Abadie   John Abadie"
            ]
          },
          "metadata": {
            "tags": []
          },
          "execution_count": 6
        }
      ]
    },
    {
      "cell_type": "markdown",
      "metadata": {
        "id": "B7lfaKS1g1_s"
      },
      "source": [
        "Teste\n"
      ]
    },
    {
      "cell_type": "code",
      "metadata": {
        "colab": {
          "base_uri": "https://localhost:8080/"
        },
        "id": "A4cR9v3hg5d9",
        "outputId": "ddec2f01-0820-42fa-e3fd-1857f8323580"
      },
      "source": [
        "baseball_data = pd.read_csv('nameFull.csv',encoding='iso8859_2')\n",
        "baseball_data['nameFull'].head()"
      ],
      "execution_count": 5,
      "outputs": [
        {
          "output_type": "execute_result",
          "data": {
            "text/plain": [
              "0      HankAaron\n",
              "1    TommieAaron\n",
              "2        DonAase\n",
              "3       AndyAbad\n",
              "4     JohnAbadie\n",
              "Name: nameFull, dtype: object"
            ]
          },
          "metadata": {},
          "execution_count": 5
        }
      ]
    }
  ]
}